{
 "cells": [
  {
   "cell_type": "code",
   "execution_count": null,
   "metadata": {},
   "outputs": [],
   "source": [
    "\n",
    "# Statistics in Python\n",
    "\n",
    "### Histogram\n",
    "- The default bin size in matplotlib is **10**. \n",
    "- The **square root rule** is a commonly-used rule of thumb for choosing number of bins : `choose the number of bins to be the **square root** of the number of samples.`\n",
    "\n",
    "#### Disadvantages of histogram\n",
    "- Major drawback of histogram is the same data look different depending on how the bins are chosen, and the choice of bins is in many ways arbitrary.\n",
    "- This leads to **binning bias.**\n",
    "- The same data may be interpreted differently depending on choice of bins.\n",
    "- Additional problem with histograms is we are not plotting all of our data, we are sweeping the data into bins and loosing their actual values.\n",
    "- TO remedy these problems we can make a `**Bee swarm plot**`\n",
    "\n",
    "### Plot all of your data : Bee swarm plots\n",
    "- We dont have a binning bais and whole data is displayed\n",
    "\n",
    "#### Generating a bee swarm plot\n",
    "\n",
    "```python\n",
    "_ = sns.swarmplot(x='state', y='dem_share', data=df_swing)\n",
    "_ = plt.xlabel('state')\n",
    "_ = plt.ylabel('percent of vote for obama')\n",
    "plt.show()\n",
    "```\n",
    "\n",
    "### Plot all of the data : ECDFs (Empirical cumulative distribution function)\n",
    "- Using a bee swarm plot to plot all of the data is not the best option. As an alternative we can compute an **Empirical cumulative distribution function (ECDF)** \n",
    "- The x-value of ECDF is the quantity that we are measuring. The yvalue is the fraction of data points that have a value smaller than the corresponfing x-value.\n",
    "\n",
    "#### Making an ECDF\n",
    "\n",
    "```python\n",
    "\n",
    "\n",
    "\n",
    "\n",
    "\n",
    "\n",
    "\n",
    "\n",
    "\n",
    "\n",
    "\n",
    "\n",
    "\n",
    "\n",
    "\n",
    "\n",
    "\n",
    "\n"
   ]
  }
 ],
 "metadata": {
  "kernelspec": {
   "display_name": "Python 3",
   "language": "python",
   "name": "python3"
  },
  "language_info": {
   "codemirror_mode": {
    "name": "ipython",
    "version": 3
   },
   "file_extension": ".py",
   "mimetype": "text/x-python",
   "name": "python",
   "nbconvert_exporter": "python",
   "pygments_lexer": "ipython3",
   "version": "3.7.3"
  }
 },
 "nbformat": 4,
 "nbformat_minor": 2
}
